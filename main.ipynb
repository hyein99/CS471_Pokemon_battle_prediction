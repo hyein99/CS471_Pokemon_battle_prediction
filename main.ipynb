{
  "cells": [
    {
      "cell_type": "code",
      "execution_count": null,
      "metadata": {
        "colab": {
          "base_uri": "https://localhost:8080/"
        },
        "id": "RkSe5fXKrY8G",
        "outputId": "89d42db4-f29d-4e55-f282-f9fbbbe7c1c7"
      },
      "outputs": [],
      "source": [
        "%pip install -r ./requirements.txt"
      ]
    },
    {
      "cell_type": "code",
      "execution_count": null,
      "metadata": {
        "colab": {
          "base_uri": "https://localhost:8080/"
        },
        "id": "axJ9tf7vswKn",
        "outputId": "16a61819-94dd-48f7-a8f7-47573f3b3eeb"
      },
      "outputs": [],
      "source": [
        "\"\"\"\n",
        "Dataset download from Google Drive using gdown\n",
        "(Uncomment the following code to download the dataset from Google Drive using gdown)\n",
        "\"\"\"\n",
        "# import gdown\n",
        "\n",
        "# !mkdir dataset\n",
        "# file_id = \"175dbrMckA7WGtLXeT55xx06hsDSkRJiR\"\n",
        "# output = \"dataset/dataset.zip\"\n",
        "# gdown.download(id=file_id, output=output, quiet=False)\n",
        "\n",
        "# !unzip ./dataset/dataset.zip -d ./dataset"
      ]
    },
    {
      "cell_type": "markdown",
      "metadata": {
        "id": "JNybONnWrY8G"
      },
      "source": [
        "# Import Modules"
      ]
    },
    {
      "cell_type": "code",
      "execution_count": 54,
      "metadata": {
        "id": "tizSUrJmrY8H"
      },
      "outputs": [],
      "source": [
        "import random\n",
        "import numpy as np\n",
        "import torch\n",
        "import torch.nn.functional as F\n",
        "import pandas as pd\n",
        "import copy\n",
        "\n",
        "from sklearn.preprocessing import LabelEncoder\n",
        "from sklearn.preprocessing import StandardScaler, MinMaxScaler\n",
        "from sklearn.model_selection import train_test_split\n",
        "from sklearn.metrics import roc_auc_score\n",
        "\n",
        "from torch_geometric.data import Data, DataLoader\n",
        "\n",
        "from Graph import GraphSage, GAT"
      ]
    },
    {
      "cell_type": "code",
      "execution_count": 4,
      "metadata": {
        "id": "5xMrCdFArY8H"
      },
      "outputs": [],
      "source": [
        "SEED = 42\n",
        "deterministic = True\n",
        "\n",
        "random.seed(SEED)\n",
        "np.random.seed(SEED)\n",
        "torch.manual_seed(SEED)\n",
        "torch.cuda.manual_seed_all(SEED)\n",
        "if deterministic:\n",
        "\ttorch.backends.cudnn.deterministic = True\n",
        "\ttorch.backends.cudnn"
      ]
    },
    {
      "cell_type": "markdown",
      "metadata": {
        "id": "oQXcMk2erY8H"
      },
      "source": [
        "# Data Pre-processing"
      ]
    },
    {
      "cell_type": "code",
      "execution_count": 252,
      "metadata": {
        "id": "C_0Xb4tPrY8H"
      },
      "outputs": [],
      "source": [
        "# Load pokemon.csv and combats.csv\n",
        "pokemon_data = pd.read_csv('./dataset/pokemon.csv')\n",
        "combats_data = pd.read_csv('./dataset/combats.csv')\n",
        "\n",
        "# Encode vertex values to unique integers\n",
        "label_encoder = LabelEncoder()\n",
        "pokemon_data['#'] = label_encoder.fit_transform(pokemon_data['#'])\n",
        "combats_data[['First_pokemon', 'Second_pokemon', 'Winner']] = \\\n",
        "    combats_data[['First_pokemon', 'Second_pokemon', 'Winner']].apply(label_encoder.transform)\n",
        "\n",
        "features_to_normalize = ['HP', 'Attack', 'Defense', 'Speed', 'Generation', 'Sp. Atk', 'Sp. Def']\n",
        "features_else = ['Type 1_Bug', 'Type 1_Dark', 'Type 1_Dragon', 'Type 1_Electric',\n",
        "              'Type 1_Fairy', 'Type 1_Fighting', 'Type 1_Fire', 'Type 1_Flying',\n",
        "              'Type 1_Ghost', 'Type 1_Grass', 'Type 1_Ground', 'Type 1_Ice',\n",
        "              'Type 1_Normal', 'Type 1_Poison', 'Type 1_Psychic', 'Type 1_Rock',\n",
        "              'Type 1_Steel', 'Type 1_Water', 'Type 2_Bug', 'Type 2_Dark',\n",
        "              'Type 2_Dragon', 'Type 2_Electric', 'Type 2_Fairy', 'Type 2_Fighting',\n",
        "              'Type 2_Fire', 'Type 2_Flying', 'Type 2_Ghost', 'Type 2_Grass',\n",
        "              'Type 2_Ground', 'Type 2_Ice', 'Type 2_Normal', 'Type 2_Poison',\n",
        "              'Type 2_Psychic', 'Type 2_Rock', 'Type 2_Steel', 'Type 2_Water']\n",
        "\n",
        "scaler = MinMaxScaler()\n",
        "\n",
        "pokemon_data[features_to_normalize] = \\\n",
        "    scaler.fit_transform(pokemon_data[features_to_normalize])\n",
        "\n",
        "\n",
        "pokemon_data = pd.get_dummies(pokemon_data, columns=['Type 1', 'Type 2'])\n",
        "pokemon_data[features_else] = \\\n",
        "    pokemon_data[features_else].astype(int)\n",
        "\n",
        "hp_weight = 5.0\n",
        "pokemon_data['HP'] *= hp_weight\n",
        "\n",
        "pokemon_data['Legendary'] = pokemon_data['Legendary'].astype(int)\n",
        "pokemon_data['total_stat'] = pokemon_data[features_to_normalize].sum(axis=1)"
      ]
    },
    {
      "cell_type": "code",
      "execution_count": null,
      "metadata": {
        "colab": {
          "base_uri": "https://localhost:8080/"
        },
        "id": "wbpDGPs0rY8H",
        "outputId": "f20dcde3-e8a4-4aa1-b314-796415cce915"
      },
      "outputs": [],
      "source": [
        "# Split combats data into train and test\n",
        "train_combats, test_combats = train_test_split(combats_data, test_size=0.2, random_state=SEED)\n",
        "\n",
        "# Extract unique vertex values from train_combats and test_combats\n",
        "train_vertices = set(train_combats['First_pokemon']).union(set(train_combats['Second_pokemon']))\n",
        "test_vertices = set(test_combats['First_pokemon']).union(set(test_combats['Second_pokemon']))\n",
        "\n",
        "# Split pokemon data into train and test based on the vertices\n",
        "train_pokemon = pokemon_data[pokemon_data['#'].isin(train_vertices)]\n",
        "test_pokemon = pokemon_data[pokemon_data['#'].isin(test_vertices)]\n",
        "\n",
        "# Decode vertex values back to original values if needed\n",
        "train_pokemon['#'] = label_encoder.inverse_transform(train_pokemon['#'])\n",
        "test_pokemon['#'] = label_encoder.inverse_transform(test_pokemon['#'])\n",
        "\n",
        "# Set \"#\" as index for train_pokemon and test_pokemon dataframes\n",
        "train_pokemon.set_index('#', inplace=True)\n",
        "test_pokemon.set_index('#', inplace=True)"
      ]
    },
    {
      "cell_type": "code",
      "execution_count": null,
      "metadata": {
        "colab": {
          "base_uri": "https://localhost:8080/"
        },
        "id": "gjzSj-q6rY8H",
        "outputId": "dccfa521-1e3a-4e3e-b3d1-9f405ba19dc1"
      },
      "outputs": [],
      "source": [
        "features = ['total_stat']+features_to_normalize + features_else\n",
        "\n",
        "X_data = pokemon_data[features].values\n",
        "X_data = torch.tensor(X_data, dtype=torch.float)\n",
        "\n",
        "# for train dataset\n",
        "X_train = train_pokemon[features].values\n",
        "X_train = torch.tensor(X_train, dtype=torch.float)\n",
        "edges_train = []\n",
        "neg_edge_index_train = []\n",
        "\n",
        "for _, row in train_combats.iterrows():\n",
        "    first_pokemon = row['First_pokemon']\n",
        "    second_pokemon = row['Second_pokemon']\n",
        "    winner = row['Winner']\n",
        "\n",
        "    if first_pokemon == winner:\n",
        "      edges_train.append((second_pokemon, first_pokemon))\n",
        "      neg_edge_index_train.append((first_pokemon, second_pokemon))\n",
        "\n",
        "    else:\n",
        "      edges_train.append((first_pokemon, second_pokemon))\n",
        "      neg_edge_index_train.append((second_pokemon, first_pokemon))\n",
        "\n",
        "neg_edge_index_train = torch.tensor(neg_edge_index_train, dtype=torch.long).t()\n",
        "edge_index_train = torch.tensor(edges_train, dtype=torch.long).t()\n",
        "\n",
        "data_train = Data(x=X_data, edge_index=edge_index_train, neg_edge_index = neg_edge_index_train)\n",
        "train_loader = DataLoader([data_train], batch_size=1, shuffle=True)\n",
        "\n",
        "# for test dataset\n",
        "X_test = test_pokemon[features].values\n",
        "X_test = torch.tensor(X_test, dtype=torch.float)\n",
        "edges_test = []\n",
        "neg_edge_index_test = []\n",
        "\n",
        "for _, row in test_combats.iterrows():\n",
        "    first_pokemon = row['First_pokemon']\n",
        "    second_pokemon = row['Second_pokemon']\n",
        "    winner = row['Winner']\n",
        "\n",
        "    if first_pokemon == winner:\n",
        "      edges_test.append((second_pokemon, first_pokemon))\n",
        "      neg_edge_index_test.append((first_pokemon, second_pokemon))\n",
        "\n",
        "    else:\n",
        "      edges_test.append((first_pokemon, second_pokemon))\n",
        "      neg_edge_index_test.append((second_pokemon, first_pokemon))\n",
        "\n",
        "edge_index_test = torch.tensor(edges_test, dtype=torch.long).t()\n",
        "neg_edge_index_test = torch.tensor(neg_edge_index_test, dtype=torch.long).t()\n",
        "\n",
        "data_test = Data(x=X_data, edge_index=edge_index_test, neg_edge_index= neg_edge_index_test)\n",
        "test_loader = DataLoader([data_test], batch_size=1, shuffle=False)\n",
        "\n",
        "# for total data\n",
        "edge = edges_train\n",
        "edge.extend(edges_test)\n",
        "edge_index = torch.tensor(edge, dtype=torch.long).t()\n",
        "\n",
        "data_total = Data(x=X_data, edge_index = edge_index)"
      ]
    },
    {
      "cell_type": "markdown",
      "metadata": {
        "id": "9PIWFHRYrY8I"
      },
      "source": [
        "# Define Train, Test, Predict Frameworks"
      ]
    },
    {
      "cell_type": "code",
      "execution_count": 255,
      "metadata": {
        "id": "MlzM70M3rY8I"
      },
      "outputs": [],
      "source": [
        "def train(model, optimizer, train_loader, device):\n",
        "    model.train()\n",
        "    total_loss = 0\n",
        "\n",
        "    for data in train_loader:\n",
        "        data = data.to(device)\n",
        "        optimizer.zero_grad()\n",
        "        out = model(data.x, data.edge_index)\n",
        "\n",
        "        pos_edge_index = data.edge_index\n",
        "        neg_edge_index = data.neg_edge_index\n",
        "\n",
        "        pos_head = out[pos_edge_index[0]]\n",
        "        pos_tail = out[pos_edge_index[1]]\n",
        "        neg_head = out[neg_edge_index[0]]\n",
        "        neg_tail = out[neg_edge_index[1]]\n",
        "\n",
        "        pos_pred = model.predict(pos_head, pos_tail)\n",
        "        neg_pred = model.predict(neg_head, neg_tail)\n",
        "\n",
        "        pos_loss = F.binary_cross_entropy_with_logits(pos_pred, torch.ones_like(pos_pred))\n",
        "        neg_loss = F.binary_cross_entropy_with_logits(neg_pred, torch.zeros_like(neg_pred))\n",
        "        loss = pos_loss + neg_loss\n",
        "        loss.backward()\n",
        "        optimizer.step()\n",
        "        total_loss += loss.item()\n",
        "\n",
        "    return total_loss / len(train_loader)\n",
        "\n",
        "def test(model, loader, device):\n",
        "    model.eval()\n",
        "    auc = 0\n",
        "    with torch.no_grad():\n",
        "        for data in loader:\n",
        "            data = data.to(device)\n",
        "            out = model(data.x, data.edge_index)\n",
        "\n",
        "            pos_edge_index = data.edge_index\n",
        "            neg_edge_index = data.neg_edge_index\n",
        "\n",
        "            pos_head = out[pos_edge_index[0]]\n",
        "            pos_tail = out[pos_edge_index[1]]\n",
        "            neg_head = out[neg_edge_index[0]]\n",
        "            neg_tail = out[neg_edge_index[1]]\n",
        "\n",
        "            pos_pred = model.predict(pos_head, pos_tail)\n",
        "            neg_pred = model.predict(neg_head, neg_tail)\n",
        "            preds = torch.cat([pos_pred, neg_pred])\n",
        "\n",
        "            pos_labels = torch.ones_like(pos_pred)\n",
        "            neg_labels = torch.zeros_like(neg_pred)\n",
        "            labels = torch.cat([pos_labels, neg_labels])\n",
        "\n",
        "            auc += roc_auc_score(labels.cpu(), preds.cpu())\n",
        "\n",
        "    return auc / len(loader)\n",
        "\n",
        "def predict(model, head, tail, data, device):\n",
        "    model.eval()\n",
        "    with torch.no_grad():\n",
        "        data = data.to(device)\n",
        "        out = model(data.x, data.edge_index)\n",
        "        head_feature = out[head]\n",
        "        tail_feature = out[tail]\n",
        "        score = model.predict(head_feature, tail_feature)\n",
        "        reverse_score = model.predict(tail_feature, head_feature)\n",
        "        return torch.sigmoid(score).item(), torch.sigmoid(reverse_score).item()"
      ]
    },
    {
      "cell_type": "markdown",
      "metadata": {
        "id": "kVG6f97PrY8I"
      },
      "source": [
        "# Train"
      ]
    },
    {
      "cell_type": "code",
      "execution_count": 256,
      "metadata": {
        "id": "sp0NfQAgrY8I"
      },
      "outputs": [],
      "source": [
        "# Choose model from [\"GCN\", \"GraphSage_mean\", \"GraphSage_maxpool\", \"GAT\"]\n",
        "def train_model(epoch, model_type, data_train, data_test, train_loader, test_loader, device):\n",
        "    EPOCH = epoch\n",
        "    MODEL = model_type\n",
        "\n",
        "    if MODEL == \"GCN\":\n",
        "        model = GraphSage(num_layers=2, dim_in=X_data.shape[1], dim_hidden=64, dim_out=8, agg_type=\"gcn\")\n",
        "    elif MODEL == \"GraphSage_mean\":\n",
        "        model = GraphSage(num_layers=2, dim_in=X_data.shape[1], dim_hidden=64, dim_out=8, agg_type=\"mean\")\n",
        "    elif MODEL == \"GraphSage_maxpool\":\n",
        "        model = GraphSage(num_layers=2, dim_in=X_data.shape[1], dim_hidden=64, dim_out=8, agg_type=\"maxpool\")\n",
        "    elif MODEL == \"GAT\":\n",
        "        model = GAT(dim_in=X_data.shape[1], dim_hidden=64, dim_out=8, dropout = 0.5, alpha = 0.2, num_heads = 8)\n",
        "\n",
        "    model = model.to(device)\n",
        "\n",
        "    data_train = data_train.to(device)\n",
        "    data_test = data_test.to(device)\n",
        "    optimizer = torch.optim.AdamW(model.parameters(), lr=0.01, weight_decay=5e-4)\n",
        "\n",
        "    patience = 3 # for early stopping\n",
        "    best_loss = float('inf')\n",
        "    epochs_no_improve = 0\n",
        "\n",
        "    for epoch in range(EPOCH):\n",
        "        loss = train(model, optimizer, train_loader, device)\n",
        "        if epoch % 10 == 0:\n",
        "            test_auc = test(model, test_loader, device)\n",
        "            train_auc = test(model, train_loader, device)\n",
        "            print(f'Epoch: {epoch:03d}, Loss: {loss:.4f}, Train AUC: {train_auc:.4f}, Test AUC: {test_auc:.4f}')\n",
        "            if loss < best_loss:\n",
        "                best_loss = loss\n",
        "                epochs_no_improve = 0\n",
        "            else:\n",
        "                epochs_no_improve += 1\n",
        "                if epochs_no_improve == patience:\n",
        "                    print(\"Early stopping triggered\")\n",
        "                    break\n",
        "    return model\n",
        "\n",
        "# calculate prediction accuracy\n",
        "def test_model(model, data_total, data_test, device):\n",
        "    device = torch.device('cuda' if torch.cuda.is_available() else 'cpu')\n",
        "\n",
        "    head_list, tail_list = data_test.edge_index\n",
        "    head_list = list(head_list)\n",
        "    tail_list = list(tail_list)\n",
        "\n",
        "    pos = 0\n",
        "    for idx in range(len(head_list)):\n",
        "        head = head_list[idx]\n",
        "        tail = tail_list[idx]\n",
        "        prediction, reverse_prediction = predict(model, head, tail, data_total, device)\n",
        "        if prediction > reverse_prediction:\n",
        "            pos += 1\n",
        "\n",
        "    print(f\"Prediction accuracy: {pos/len(head_list)}\")"
      ]
    },
    {
      "cell_type": "code",
      "execution_count": 257,
      "metadata": {
        "id": "y9-kgvvsrY8I"
      },
      "outputs": [],
      "source": [
        "device = torch.device('cuda' if torch.cuda.is_available() else 'cpu')\n",
        "\n",
        "# select model from model_types\n",
        "model_types = [\"GCN\", \"GraphSage_mean\", \"GraphSage_maxpool\", \"GAT\"]"
      ]
    },
    {
      "cell_type": "code",
      "execution_count": 258,
      "metadata": {
        "colab": {
          "base_uri": "https://localhost:8080/"
        },
        "id": "PwIlFFS0rY8I",
        "outputId": "75020364-8d60-4e77-c87a-3fc77595f0c7"
      },
      "outputs": [
        {
          "name": "stdout",
          "output_type": "stream",
          "text": [
            "Epoch: 000, Loss: 1.3931, Train AUC: 0.6552, Test AUC: 0.6384\n",
            "Epoch: 010, Loss: 1.1563, Train AUC: 0.8224, Test AUC: 0.8056\n",
            "Epoch: 020, Loss: 0.7782, Train AUC: 0.9144, Test AUC: 0.8694\n",
            "Epoch: 030, Loss: 0.7019, Train AUC: 0.9283, Test AUC: 0.8967\n",
            "Epoch: 040, Loss: 0.6598, Train AUC: 0.9335, Test AUC: 0.9117\n",
            "Epoch: 050, Loss: 0.6319, Train AUC: 0.9386, Test AUC: 0.9203\n",
            "Epoch: 060, Loss: 0.5937, Train AUC: 0.9461, Test AUC: 0.9299\n",
            "Epoch: 070, Loss: 0.6358, Train AUC: 0.9538, Test AUC: 0.9387\n",
            "Epoch: 080, Loss: 0.5493, Train AUC: 0.9589, Test AUC: 0.9422\n",
            "Epoch: 090, Loss: 0.5021, Train AUC: 0.9635, Test AUC: 0.9470\n",
            "Epoch: 100, Loss: 0.4685, Train AUC: 0.9681, Test AUC: 0.9525\n",
            "Epoch: 110, Loss: 0.4368, Train AUC: 0.9713, Test AUC: 0.9540\n",
            "Epoch: 120, Loss: 0.4151, Train AUC: 0.9735, Test AUC: 0.9572\n",
            "Epoch: 130, Loss: 0.3914, Train AUC: 0.9761, Test AUC: 0.9583\n",
            "Epoch: 140, Loss: 0.4179, Train AUC: 0.9782, Test AUC: 0.9586\n",
            "Epoch: 150, Loss: 0.4174, Train AUC: 0.9736, Test AUC: 0.9551\n",
            "Epoch: 160, Loss: 0.3830, Train AUC: 0.9785, Test AUC: 0.9564\n",
            "Epoch: 170, Loss: 0.3634, Train AUC: 0.9797, Test AUC: 0.9566\n",
            "Epoch: 180, Loss: 0.3510, Train AUC: 0.9812, Test AUC: 0.9577\n",
            "Epoch: 190, Loss: 0.3418, Train AUC: 0.9820, Test AUC: 0.9579\n",
            "Epoch: 200, Loss: 0.3341, Train AUC: 0.9829, Test AUC: 0.9567\n",
            "Epoch: 210, Loss: 0.3420, Train AUC: 0.9829, Test AUC: 0.9554\n",
            "Epoch: 220, Loss: 0.3218, Train AUC: 0.9840, Test AUC: 0.9567\n",
            "Epoch: 230, Loss: 0.3155, Train AUC: 0.9847, Test AUC: 0.9564\n",
            "Epoch: 240, Loss: 0.3116, Train AUC: 0.9851, Test AUC: 0.9551\n",
            "Epoch: 250, Loss: 0.3068, Train AUC: 0.9858, Test AUC: 0.9551\n",
            "Epoch: 260, Loss: 0.3069, Train AUC: 0.9854, Test AUC: 0.9552\n",
            "Epoch: 270, Loss: 0.2962, Train AUC: 0.9865, Test AUC: 0.9560\n",
            "Epoch: 280, Loss: 0.3100, Train AUC: 0.9859, Test AUC: 0.9565\n",
            "Epoch: 290, Loss: 0.2961, Train AUC: 0.9864, Test AUC: 0.9578\n",
            "Prediction accuracy: 0.9302\n"
          ]
        }
      ],
      "source": [
        "gcn_model = train_model(300, \"GCN\", data_train, data_test, train_loader, test_loader, device)\n",
        "test_model(gcn_model, data_total, data_test, device)"
      ]
    },
    {
      "cell_type": "code",
      "execution_count": 259,
      "metadata": {
        "colab": {
          "base_uri": "https://localhost:8080/"
        },
        "id": "JaBx2nb6rY8I",
        "outputId": "05e58d7d-da3c-4b87-a86d-16296147ab0a"
      },
      "outputs": [
        {
          "name": "stdout",
          "output_type": "stream",
          "text": [
            "Epoch: 000, Loss: 1.3869, Train AUC: 0.7256, Test AUC: 0.6856\n",
            "Epoch: 010, Loss: 1.0177, Train AUC: 0.8630, Test AUC: 0.8316\n",
            "Epoch: 020, Loss: 0.7404, Train AUC: 0.9197, Test AUC: 0.8906\n",
            "Epoch: 030, Loss: 0.6762, Train AUC: 0.9320, Test AUC: 0.9113\n",
            "Epoch: 040, Loss: 0.6283, Train AUC: 0.9406, Test AUC: 0.9255\n",
            "Epoch: 050, Loss: 0.5672, Train AUC: 0.9553, Test AUC: 0.9379\n",
            "Epoch: 060, Loss: 0.5643, Train AUC: 0.9565, Test AUC: 0.9385\n",
            "Epoch: 070, Loss: 0.5164, Train AUC: 0.9621, Test AUC: 0.9448\n",
            "Epoch: 080, Loss: 0.4787, Train AUC: 0.9668, Test AUC: 0.9472\n",
            "Epoch: 090, Loss: 0.4485, Train AUC: 0.9706, Test AUC: 0.9486\n",
            "Epoch: 100, Loss: 0.4204, Train AUC: 0.9737, Test AUC: 0.9502\n",
            "Epoch: 110, Loss: 0.4207, Train AUC: 0.9714, Test AUC: 0.9351\n",
            "Epoch: 120, Loss: 0.3986, Train AUC: 0.9754, Test AUC: 0.9521\n",
            "Epoch: 130, Loss: 0.3785, Train AUC: 0.9780, Test AUC: 0.9549\n",
            "Epoch: 140, Loss: 0.3658, Train AUC: 0.9795, Test AUC: 0.9571\n",
            "Epoch: 150, Loss: 0.3560, Train AUC: 0.9806, Test AUC: 0.9558\n",
            "Epoch: 160, Loss: 0.3519, Train AUC: 0.9805, Test AUC: 0.9573\n",
            "Epoch: 170, Loss: 0.3412, Train AUC: 0.9818, Test AUC: 0.9564\n",
            "Epoch: 180, Loss: 0.3410, Train AUC: 0.9827, Test AUC: 0.9535\n",
            "Epoch: 190, Loss: 0.3291, Train AUC: 0.9834, Test AUC: 0.9543\n",
            "Epoch: 200, Loss: 0.3297, Train AUC: 0.9832, Test AUC: 0.9560\n",
            "Epoch: 210, Loss: 0.3214, Train AUC: 0.9843, Test AUC: 0.9550\n",
            "Epoch: 220, Loss: 0.3249, Train AUC: 0.9814, Test AUC: 0.9585\n",
            "Epoch: 230, Loss: 0.3175, Train AUC: 0.9852, Test AUC: 0.9562\n",
            "Epoch: 240, Loss: 0.3077, Train AUC: 0.9856, Test AUC: 0.9536\n",
            "Epoch: 250, Loss: 0.3036, Train AUC: 0.9859, Test AUC: 0.9566\n",
            "Epoch: 260, Loss: 0.3011, Train AUC: 0.9865, Test AUC: 0.9526\n",
            "Epoch: 270, Loss: 0.2955, Train AUC: 0.9865, Test AUC: 0.9558\n",
            "Epoch: 280, Loss: 0.3002, Train AUC: 0.9868, Test AUC: 0.9512\n",
            "Epoch: 290, Loss: 0.2879, Train AUC: 0.9874, Test AUC: 0.9550\n",
            "Prediction accuracy: 0.9313\n"
          ]
        }
      ],
      "source": [
        "graphsage_mean_model = train_model(300, \"GraphSage_mean\", data_train, data_test, train_loader, test_loader, device)\n",
        "test_model(graphsage_mean_model, data_total, data_test, device)"
      ]
    },
    {
      "cell_type": "code",
      "execution_count": 260,
      "metadata": {
        "colab": {
          "base_uri": "https://localhost:8080/"
        },
        "id": "N_0EABqCrY8I",
        "outputId": "05f10875-7e04-468c-9789-f736dff01546"
      },
      "outputs": [
        {
          "name": "stdout",
          "output_type": "stream",
          "text": [
            "Epoch: 000, Loss: 1.3876, Train AUC: 0.6412, Test AUC: 0.6055\n",
            "Epoch: 010, Loss: 1.1422, Train AUC: 0.8642, Test AUC: 0.8461\n",
            "Epoch: 020, Loss: 0.7769, Train AUC: 0.9144, Test AUC: 0.9047\n",
            "Epoch: 030, Loss: 0.7124, Train AUC: 0.9278, Test AUC: 0.9182\n",
            "Epoch: 040, Loss: 0.6757, Train AUC: 0.9329, Test AUC: 0.9222\n",
            "Epoch: 050, Loss: 0.6503, Train AUC: 0.9365, Test AUC: 0.9243\n",
            "Epoch: 060, Loss: 0.6074, Train AUC: 0.9457, Test AUC: 0.9286\n",
            "Epoch: 070, Loss: 0.5693, Train AUC: 0.9571, Test AUC: 0.9380\n",
            "Epoch: 080, Loss: 0.5054, Train AUC: 0.9633, Test AUC: 0.9400\n",
            "Epoch: 090, Loss: 0.4662, Train AUC: 0.9678, Test AUC: 0.9458\n",
            "Epoch: 100, Loss: 0.4436, Train AUC: 0.9706, Test AUC: 0.9489\n",
            "Epoch: 110, Loss: 0.4286, Train AUC: 0.9733, Test AUC: 0.9520\n",
            "Epoch: 120, Loss: 0.4047, Train AUC: 0.9761, Test AUC: 0.9526\n",
            "Epoch: 130, Loss: 0.4053, Train AUC: 0.9735, Test AUC: 0.9572\n",
            "Epoch: 140, Loss: 0.3859, Train AUC: 0.9772, Test AUC: 0.9554\n",
            "Epoch: 150, Loss: 0.3673, Train AUC: 0.9799, Test AUC: 0.9577\n",
            "Epoch: 160, Loss: 0.3515, Train AUC: 0.9812, Test AUC: 0.9593\n",
            "Epoch: 170, Loss: 0.3409, Train AUC: 0.9822, Test AUC: 0.9596\n",
            "Epoch: 180, Loss: 0.3374, Train AUC: 0.9828, Test AUC: 0.9595\n",
            "Epoch: 190, Loss: 0.3293, Train AUC: 0.9834, Test AUC: 0.9605\n",
            "Epoch: 200, Loss: 0.3249, Train AUC: 0.9836, Test AUC: 0.9597\n",
            "Epoch: 210, Loss: 0.3293, Train AUC: 0.9825, Test AUC: 0.9637\n",
            "Epoch: 220, Loss: 0.3215, Train AUC: 0.9848, Test AUC: 0.9632\n",
            "Epoch: 230, Loss: 0.3235, Train AUC: 0.9835, Test AUC: 0.9600\n",
            "Epoch: 240, Loss: 0.3176, Train AUC: 0.9842, Test AUC: 0.9637\n",
            "Epoch: 250, Loss: 0.3066, Train AUC: 0.9857, Test AUC: 0.9636\n",
            "Epoch: 260, Loss: 0.2996, Train AUC: 0.9863, Test AUC: 0.9650\n",
            "Epoch: 270, Loss: 0.3004, Train AUC: 0.9864, Test AUC: 0.9638\n",
            "Epoch: 280, Loss: 0.2955, Train AUC: 0.9867, Test AUC: 0.9645\n",
            "Epoch: 290, Loss: 0.2943, Train AUC: 0.9863, Test AUC: 0.9616\n",
            "Prediction accuracy: 0.9247\n"
          ]
        }
      ],
      "source": [
        "graphsage_max_model = train_model(300, \"GraphSage_maxpool\", data_train, data_test, train_loader, test_loader, device)\n",
        "test_model(graphsage_max_model, data_total, data_test, device)"
      ]
    },
    {
      "cell_type": "code",
      "execution_count": 261,
      "metadata": {
        "colab": {
          "base_uri": "https://localhost:8080/"
        },
        "id": "lY4baGg0rY8I",
        "outputId": "c625e57c-5cf1-41f2-db08-71cb4e4017b3"
      },
      "outputs": [
        {
          "name": "stdout",
          "output_type": "stream",
          "text": [
            "Epoch: 000, Loss: 1.4268, Train AUC: 0.6212, Test AUC: 0.6517\n",
            "Epoch: 010, Loss: 1.2028, Train AUC: 0.7680, Test AUC: 0.7616\n",
            "Epoch: 020, Loss: 1.0571, Train AUC: 0.8203, Test AUC: 0.8195\n",
            "Epoch: 030, Loss: 0.9470, Train AUC: 0.8656, Test AUC: 0.8682\n",
            "Epoch: 040, Loss: 0.8320, Train AUC: 0.8988, Test AUC: 0.8980\n",
            "Epoch: 050, Loss: 0.7564, Train AUC: 0.9176, Test AUC: 0.9114\n",
            "Epoch: 060, Loss: 0.7056, Train AUC: 0.9281, Test AUC: 0.9174\n",
            "Epoch: 070, Loss: 0.6844, Train AUC: 0.9317, Test AUC: 0.9227\n",
            "Epoch: 080, Loss: 0.6683, Train AUC: 0.9344, Test AUC: 0.9252\n",
            "Epoch: 090, Loss: 0.6610, Train AUC: 0.9379, Test AUC: 0.9376\n",
            "Epoch: 100, Loss: 0.6533, Train AUC: 0.9387, Test AUC: 0.9366\n",
            "Epoch: 110, Loss: 0.7007, Train AUC: 0.9388, Test AUC: 0.9370\n",
            "Epoch: 120, Loss: 0.6487, Train AUC: 0.9391, Test AUC: 0.9394\n",
            "Epoch: 130, Loss: 0.6417, Train AUC: 0.9416, Test AUC: 0.9409\n",
            "Epoch: 140, Loss: 0.6294, Train AUC: 0.9434, Test AUC: 0.9428\n",
            "Epoch: 150, Loss: 0.6172, Train AUC: 0.9449, Test AUC: 0.9424\n",
            "Epoch: 160, Loss: 0.5969, Train AUC: 0.9477, Test AUC: 0.9449\n",
            "Epoch: 170, Loss: 0.5751, Train AUC: 0.9528, Test AUC: 0.9498\n",
            "Epoch: 180, Loss: 0.5387, Train AUC: 0.9588, Test AUC: 0.9560\n",
            "Epoch: 190, Loss: 0.4951, Train AUC: 0.9637, Test AUC: 0.9598\n",
            "Epoch: 200, Loss: 0.4607, Train AUC: 0.9696, Test AUC: 0.9636\n",
            "Epoch: 210, Loss: 0.4281, Train AUC: 0.9723, Test AUC: 0.9673\n",
            "Epoch: 220, Loss: 0.4128, Train AUC: 0.9713, Test AUC: 0.9637\n",
            "Epoch: 230, Loss: 0.4273, Train AUC: 0.9764, Test AUC: 0.9757\n",
            "Epoch: 240, Loss: 0.4303, Train AUC: 0.9774, Test AUC: 0.9754\n",
            "Epoch: 250, Loss: 0.4040, Train AUC: 0.9785, Test AUC: 0.9772\n",
            "Epoch: 260, Loss: 0.9401, Train AUC: 0.9801, Test AUC: 0.9790\n",
            "Epoch: 270, Loss: 0.3681, Train AUC: 0.9793, Test AUC: 0.9785\n",
            "Epoch: 280, Loss: 0.3663, Train AUC: 0.9797, Test AUC: 0.9751\n",
            "Epoch: 290, Loss: 0.3498, Train AUC: 0.9807, Test AUC: 0.9763\n",
            "Prediction accuracy: 0.936\n"
          ]
        }
      ],
      "source": [
        "gat_model = train_model(300, \"GAT\", data_train, data_test, train_loader, test_loader, device)\n",
        "test_model(gat_model, data_total, data_test, device)"
      ]
    },
    {
      "cell_type": "markdown",
      "metadata": {},
      "source": [
        "# Application: 6 vs 6 win strategy (ordering)"
      ]
    },
    {
      "cell_type": "markdown",
      "metadata": {},
      "source": [
        "\n",
        "Implementing an application that dynamically suggests the Pokemon you should send out to win when the order of the opponent's Pokemon appears randomly."
      ]
    },
    {
      "cell_type": "code",
      "execution_count": 262,
      "metadata": {
        "id": "OylBiT6uuuKv"
      },
      "outputs": [],
      "source": [
        "def node_feature_update(winner, loser, data_battle):\n",
        "  \"\"\"\n",
        "  Update the node feature of the winner and loser pokemon after the battle\n",
        "\n",
        "  INPUT\n",
        "  winner: winner pokemon id\n",
        "  loser: loser pokemon id\n",
        "  data_battle: data object for the battle\n",
        "\n",
        "  \"\"\"\n",
        "  damage = sum(data_battle.x[loser][i].item() for i in range(2, 8))\n",
        "  data_battle.x[winner][1] -= damage\n",
        "  data_battle.x[winner][0] = sum(data_battle.x[winner][i].item() for i in range(1, 8))\n",
        "\n",
        "  return data_battle\n",
        "\n",
        "\n",
        "def find_pokemon(model, opponents, ours, opp_idx, ordering, data_battle):\n",
        "    \"\"\"\n",
        "    Find the pokemon to fight against the opponent pokemon\n",
        "    If there is no pokemon that can win, choose the pokemon with the lowest stats among them and update the node feature\n",
        "    If there are pokemons that can win, choose the pokemon with the lowest probability of winning among them and update the node feature\n",
        "\n",
        "    INPUT\n",
        "    model: gcn model, graphsage_mean model, graphsage_max_model, gat_model\n",
        "    opponents: list of opponent pokemon id\n",
        "    ours: list of our alive pokemon id\n",
        "    opp_idx: index of the opponent pokemon in the opponents list\n",
        "    ordering: list of pokemon id that have already been selected for the battle\n",
        "    data_battle: data object for the battle\n",
        "\n",
        "\n",
        "    OUTPUT\n",
        "    win: 1 if we lose, 2 if we win (0: default)\n",
        "    data_battle: updated data_battle matrix\n",
        "    my_pokemon: my pokemon participating in this round\n",
        "    \"\"\"\n",
        "    device = torch.device('cuda' if torch.cuda.is_available() else 'cpu')\n",
        "    win = 0\n",
        "    node1 = opponents[opp_idx]\n",
        "    my_winner_pokemon = [] # (pokemon_id, win_prob) list\n",
        "\n",
        "    for our_idx in range(len(ours)):\n",
        "      node2 = ours[our_idx]\n",
        "      if node2 in ordering: continue\n",
        "      prediction, reverse_prediction = predict(model, node1, node2, data_battle.to(device), device) # 우리 pokemon이 이길 prediction score\n",
        "      if prediction > reverse_prediction:\n",
        "        my_winner_pokemon.append((ours[our_idx], prediction))\n",
        "\n",
        "    if not len(my_winner_pokemon):\n",
        "      # 이길 수 있는 pokemon이 없다면\n",
        "      sorted_stats_idx = sorted(range(len(ours)), key=lambda i: data_battle.x[ours[i]][0].item())\n",
        "      for i in range(6):\n",
        "        if ours[sorted_stats_idx[i]] not in ordering:\n",
        "          pokemon_idx = sorted_stats_idx[i]\n",
        "          break\n",
        "      my_pokemon = ours[pokemon_idx]\n",
        "      data_battle = node_feature_update(opponents[opp_idx], ours[pokemon_idx], data_battle)\n",
        "      win = 1 # we lose\n",
        "    else:\n",
        "      # 이길 수 있는 pokemon이 있다면 -> prob 크기 순서대로 정렬하고 prob 가장 작은 pokemon을 ordering에 추가\n",
        "      my_winner_pokemon = sorted(my_winner_pokemon, key=lambda pokemon_pair: pokemon_pair[1]) # prediction score 값을 토대로 sorting\n",
        "      winner = my_winner_pokemon[0][0]\n",
        "      my_pokemon = winner\n",
        "      data_battle = node_feature_update(winner, opponents[opp_idx], data_battle)\n",
        "      win = 2 # we win\n",
        "\n",
        "    return win, data_battle, my_pokemon\n",
        "\n",
        "def search_pokemon_name(pokemon_id):\n",
        "  for i in range(len(pokemon_data)):\n",
        "    if pokemon_data.loc[i][\"#\"]==pokemon_id:\n",
        "      return pokemon_data.loc[i][\"Name\"]\n",
        "\n",
        "def print_simulate_msg(win, opponent, our):\n",
        "  opponent_pokemon_name = search_pokemon_name(opponent)\n",
        "  our_pokemon_name = search_pokemon_name(our)\n",
        "  print(\"opponent: {} ({})\".format(opponent, opponent_pokemon_name))\n",
        "  print(\"our: {} ({})\".format(our, our_pokemon_name))\n",
        "  if (win ==1):\n",
        "    # opponent win\n",
        "    print(\"winner: {}\".format(opponent))\n",
        "  else:\n",
        "    # our win\n",
        "    print(\"winner: {}\".format(our))\n",
        "  print(\"\")\n",
        "\n",
        "def update_remained_pokemon(win, my_pokemon, opp_idx, opponent_pokemon, remained_opponents, remained_ours):\n",
        "  # 패배한 포켓몬은 remained list에서 제거\n",
        "  if (win == 1):\n",
        "    # opponent win -> our pokemon이 제거되어야 한다\n",
        "    remained_ours.remove(my_pokemon)\n",
        "  else:\n",
        "    # we win -> opponent pokemon이 제거되어야 한다.\n",
        "    remained_opponents.remove(opponents[opp_idx])\n",
        "    opp_idx += 1 # battle 할 다음 opponent 포켓몬을 indexing 하도록 한다.\n",
        "  return remained_opponents, remained_ours, opp_idx"
      ]
    },
    {
      "cell_type": "code",
      "execution_count": 263,
      "metadata": {
        "id": "vG6dESZwuvgO"
      },
      "outputs": [],
      "source": [
        "# model input: data, edge_index, neg_edge_index\n",
        "# edge index를 생성하여 predict를 하자.\n",
        "# node 1(head): loser, node 2(tail): winner이라는 것에 대해서 추측하는 것\n",
        "\n",
        "# 6마리의 pokemon을 받는다.\n",
        "# edge_index: [[losers], [winners]]인데 그냥 [[opponent's pokemons], [our pokemons]]로 넣고 edge prediction 진행\n",
        "def simulate(model, opponents, ours, data_battle):\n",
        "  \"\"\"\n",
        "  Simulate the battle between our 6 pokemons and opponent's 6 pokemons\n",
        "\n",
        "  INPUT\n",
        "  model: gcn model, graphsage_mean model, graphsage_max_model, gat_model\n",
        "  opponents: list of opponent's 6 pokemon ids\n",
        "  ours: list of our 6 pokemon ids\n",
        "  data_battle: data object for the battle\n",
        "  \"\"\"\n",
        "  device = torch.device('cuda' if torch.cuda.is_available() else 'cpu')\n",
        "\n",
        "  ordering = []\n",
        "  random.shuffle(opponents) # opponent\n",
        "  win = 0 # 0: start, 1: opponent win , 2: ours win\n",
        "  opp_idx, our_idx = 0, 0\n",
        "  remained_opponents, remained_ours = copy.deepcopy(opponents), ours\n",
        "  round = 1 # round #\n",
        "\n",
        "  while (len(remained_opponents)!=0 and len(remained_ours)!=0): # ours 또는 opponents 중 하나가 0이 될 때까지 repeat\n",
        "    print(\"Round {}.\".format(round))\n",
        "    my_winner_pokemon = [] # (pokemon_id, win_prob) list to pick best our pokemon in this round\n",
        "\n",
        "    win, data_battle, my_pokemon = find_pokemon(model, opponents, remained_ours, opp_idx, ordering, data_battle)\n",
        "    print_simulate_msg(win, opponents[opp_idx], my_pokemon)\n",
        "    remained_opponents, remained_ours, opp_idx = update_remained_pokemon(win, my_pokemon, opp_idx, opponents[opp_idx], remained_opponents, remained_ours)\n",
        "\n",
        "    round += 1\n",
        "\n",
        "  if (len(remained_ours)==0):\n",
        "    print(\"You lose...\")\n",
        "\n",
        "  else:\n",
        "    print(\"You win!\")\n"
      ]
    },
    {
      "cell_type": "code",
      "execution_count": 265,
      "metadata": {
        "colab": {
          "base_uri": "https://localhost:8080/"
        },
        "id": "GAqESd3XuybM",
        "outputId": "79ad141e-bf20-49a1-fe7a-f9dc1fef001c"
      },
      "outputs": [
        {
          "name": "stdout",
          "output_type": "stream",
          "text": [
            "Round 1.\n",
            "opponent: 132 (Scyther)\n",
            "our: 635 (Gothita)\n",
            "winner: 132\n",
            "\n",
            "Round 2.\n",
            "opponent: 132 (Scyther)\n",
            "our: 356 (Spoink)\n",
            "winner: 132\n",
            "\n",
            "Round 3.\n",
            "opponent: 132 (Scyther)\n",
            "our: 718 (Chespin)\n",
            "winner: 718\n",
            "\n",
            "Round 4.\n",
            "opponent: 100 (Haunter)\n",
            "our: 718 (Chespin)\n",
            "winner: 100\n",
            "\n",
            "Round 5.\n",
            "opponent: 100 (Haunter)\n",
            "our: 357 (Grumpig)\n",
            "winner: 100\n",
            "\n",
            "Round 6.\n",
            "opponent: 100 (Haunter)\n",
            "our: 775 (Sliggoo)\n",
            "winner: 775\n",
            "\n",
            "Round 7.\n",
            "opponent: 155 (Snorlax)\n",
            "our: 123 (Kangaskhan)\n",
            "winner: 123\n",
            "\n",
            "Round 8.\n",
            "opponent: 519 (Togekiss)\n",
            "our: 123 (Kangaskhan)\n",
            "winner: 123\n",
            "\n",
            "Round 9.\n",
            "opponent: 610 (Basculin)\n",
            "our: 123 (Kangaskhan)\n",
            "winner: 610\n",
            "\n",
            "Round 10.\n",
            "opponent: 610 (Basculin)\n",
            "our: 775 (Sliggoo)\n",
            "winner: 610\n",
            "\n",
            "You lose...\n"
          ]
        }
      ],
      "source": [
        "\n",
        "opponents = [132, 155, 610, 382, 100, 519]\n",
        "ours = [718, 357, 775, 356, 123, 635]\n",
        "\n",
        "\n",
        "model = [gcn_model, graphsage_mean_model, graphsage_max_model, gat_model]\n",
        "data_battle = copy.deepcopy(data_total)\n",
        "simulate(model[3], opponents, ours, data_battle)"
      ]
    }
  ],
  "metadata": {
    "accelerator": "GPU",
    "colab": {
      "gpuType": "T4",
      "provenance": []
    },
    "kernelspec": {
      "display_name": "Python 3",
      "name": "python3"
    },
    "language_info": {
      "codemirror_mode": {
        "name": "ipython",
        "version": 3
      },
      "file_extension": ".py",
      "mimetype": "text/x-python",
      "name": "python",
      "nbconvert_exporter": "python",
      "pygments_lexer": "ipython3",
      "version": "3.11.5"
    }
  },
  "nbformat": 4,
  "nbformat_minor": 0
}
